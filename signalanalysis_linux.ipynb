{
 "cells": [
  {
   "cell_type": "code",
   "execution_count": 7,
   "id": "371891d7",
   "metadata": {},
   "outputs": [
    {
     "name": "stdout",
     "output_type": "stream",
     "text": [
      "True\n"
     ]
    }
   ],
   "source": [
    "import torch\n",
    "print(torch.cuda.is_available())"
   ]
  },
  {
   "cell_type": "code",
   "execution_count": 43,
   "id": "8208f682",
   "metadata": {},
   "outputs": [
    {
     "name": "stdout",
     "output_type": "stream",
     "text": [
      "Analyzing: /home/smatsubara/documents/airlift/data/experiments/rawsignal/P20240726-1600.mat\n",
      "File size: 3973.64 MB\n",
      "Successfully loaded .mat file\n",
      "\n",
      "=== File Metadata ===\n",
      "__header__: b'PicoScope 7 T&M, Created on: 2025?5?8?'\n",
      "__version__: 1.0\n",
      "__globals__: []\n",
      "\n",
      "=== Variables ===\n",
      "\n",
      "Variable 1: Tstart\n",
      "  Type: <class 'numpy.ndarray'>\n",
      "  Shape: (1, 1)\n",
      "  Data type: float32\n",
      "  Min: 0.0\n",
      "  Max: 0.0\n",
      "  Mean: 0.0\n",
      "\n",
      "Variable 2: Tinterval\n",
      "  Type: <class 'numpy.ndarray'>\n",
      "  Shape: (1, 1)\n",
      "  Data type: float64\n",
      "  Min: 1.9199999812258284e-08\n",
      "  Max: 1.9199999812258284e-08\n",
      "  Mean: 1.9199999812258284e-08\n",
      "\n",
      "Variable 3: ExtraSamples\n",
      "  Type: <class 'numpy.ndarray'>\n",
      "  Shape: (1, 1)\n",
      "  Data type: int32\n",
      "  Min: 0\n",
      "  Max: 0\n",
      "  Mean: 0.0\n",
      "\n",
      "Variable 4: RequestedLength\n",
      "  Type: <class 'numpy.ndarray'>\n",
      "  Shape: (1, 1)\n",
      "  Data type: int32\n",
      "  Min: 260416669\n",
      "  Max: 260416669\n",
      "  Mean: 260416669.0\n",
      "\n",
      "Variable 5: Length\n",
      "  Type: <class 'numpy.ndarray'>\n",
      "  Shape: (1, 1)\n",
      "  Data type: int32\n",
      "  Min: 260416669\n",
      "  Max: 260416669\n",
      "  Mean: 260416669.0\n",
      "\n",
      "Variable 6: Version\n",
      "  Type: <class 'numpy.ndarray'>\n",
      "  Shape: (1,)\n",
      "  Data type: <U11\n",
      "\n",
      "Variable 7: TDX1\n",
      "  Type: <class 'numpy.ndarray'>\n",
      "  Shape: (1, 260416673)\n",
      "  Data type: float32\n",
      "  Min: -inf\n",
      "  Max: inf\n"
     ]
    },
    {
     "name": "stderr",
     "output_type": "stream",
     "text": [
      "/home/smatsubara/documents/airlift/.venv/lib/python3.8/site-packages/numpy/core/_methods.py:181: RuntimeWarning: invalid value encountered in reduce\n",
      "  ret = umr_sum(arr, axis, dtype, out, keepdims, where=where)\n"
     ]
    },
    {
     "name": "stdout",
     "output_type": "stream",
     "text": [
      "  Mean: nan\n",
      "\n",
      "Variable 8: TDX2\n",
      "  Type: <class 'numpy.ndarray'>\n",
      "  Shape: (1, 260416673)\n",
      "  Data type: float32\n",
      "  Min: -inf\n",
      "  Max: inf\n",
      "  Mean: nan\n",
      "\n",
      "Variable 9: TDX3\n",
      "  Type: <class 'numpy.ndarray'>\n",
      "  Shape: (1, 260416673)\n",
      "  Data type: float32\n",
      "  Min: -2.3972601890563965\n",
      "  Max: 2.152641773223877\n",
      "  Mean: 0.004267964977771044\n",
      "\n",
      "Variable 10: TDX1_enlarged\n",
      "  Type: <class 'numpy.ndarray'>\n",
      "  Shape: (1, 260416673)\n",
      "  Data type: float32\n",
      "  Min: -inf\n",
      "  Max: inf\n",
      "  Mean: nan\n",
      "\n",
      "Total variables: 10\n",
      "\n",
      "=== Nested Structures ===\n",
      "\n",
      "Structure of: Tstart\n",
      "Array: shape=(1, 1), dtype=float32\n",
      "\n",
      "Structure of: Tinterval\n",
      "Array: shape=(1, 1), dtype=float64\n",
      "\n",
      "Structure of: ExtraSamples\n",
      "Array: shape=(1, 1), dtype=int32\n",
      "\n",
      "Structure of: RequestedLength\n",
      "Array: shape=(1, 1), dtype=int32\n",
      "\n",
      "Structure of: Length\n",
      "Array: shape=(1, 1), dtype=int32\n",
      "\n",
      "Structure of: Version\n",
      "Array: shape=(1,), dtype=<U11\n",
      "\n",
      "Structure of: TDX1\n",
      "Array: shape=(1, 260416673), dtype=float32\n",
      "\n",
      "Structure of: TDX2\n",
      "Array: shape=(1, 260416673), dtype=float32\n",
      "\n",
      "Structure of: TDX3\n",
      "Array: shape=(1, 260416673), dtype=float32\n",
      "\n",
      "Structure of: TDX1_enlarged\n",
      "Array: shape=(1, 260416673), dtype=float32\n"
     ]
    }
   ],
   "source": [
    "from src import analyze_mat_file\n",
    "file_path = \"/home/smatsubara/documents/airlift/data/experiments/rawsignal/P20240726-1600.mat\"\n",
    "analyze_mat_file(file_path)"
   ]
  },
  {
   "cell_type": "code",
   "execution_count": null,
   "id": "f4dc8d4e",
   "metadata": {},
   "outputs": [
    {
     "name": "stdout",
     "output_type": "stream",
     "text": [
      "Loading data...\n",
      "Loading successful\n",
      "Using device: cuda\n",
      "Number of detected triggers: (15000,)\n",
      "triggers.shape: (15000,)\n",
      "signal_chunk.shape: (260416669,)\n",
      "fs: 52083333.842615336\n",
      "arranged_pulses_tdx1.shape: (15000, 5208)\n",
      "arranged_pulses.shape: (15000, 5208, 4)\n",
      "52083333.842615336\n",
      "['__header__', '__version__', '__globals__', 'Tstart', 'Tinterval', 'ExtraSamples', 'RequestedLength', 'Length', 'Version', 'TDX1', 'TDX2', 'TDX3', 'TDX1_enlarged']\n",
      "Processed data and metadata saved to: /home/smatsubara/documents/airlift/data/experiments/processed/P20240726-1600_processed.npz\n"
     ]
    }
   ],
   "source": [
    "from src import convert_mat2npy\n",
    "import numpy as np\n",
    "import os\n",
    "import scipy.io as sio\n",
    "file_path = \"/home/smatsubara/documents/airlift/data/experiments/rawsignal/P20240726-1600.mat\"\n",
    "output_dir = \"/home/smatsubara/documents/airlift/data/experiments/processed\"  # Change to your desired directory\n",
    "processed_data,fs=convert_mat2npy(file_path,start_time=0.0,duration=5.0,amplitude_threshold=2,window_width=0.1e-3,signal_key=\"TDX1\")\n",
    "# If you want to save fs and other metadata together with processed_data, it is common to use a dictionary and save it as a .npz file.\n",
    "# You should modify convert_mat2npy to return fs and any other metadata you need.\n",
    "# Here, as an example, we use a dummy value for fs. In practice, get fs from the return value of convert_mat2npy.\n",
    "mat_data=sio.loadmat(file_path)\n",
    "keys=list(mat_data.keys())\n",
    "print(fs)\n",
    "print(keys)\n",
    "# Prepare a dictionary to save both data and metadata\n",
    "save_dict = {\n",
    "    \"processed_data\": processed_data,\n",
    "    \"fs\": fs,\n",
    "    \"original_keys\": keys,\n",
    "    # Add other metadata here if needed\n",
    "}\n",
    "\n",
    "base_filename = os.path.splitext(os.path.basename(file_path))[0]\n",
    "save_path = os.path.join(output_dir, f\"{base_filename}_processed.npz\")\n",
    "np.savez(save_path, **save_dict)\n",
    "print(f\"Processed data and metadata saved to: {save_path}\")"
   ]
  },
  {
   "cell_type": "code",
   "execution_count": 13,
   "id": "2640c48a",
   "metadata": {},
   "outputs": [
    {
     "name": "stdout",
     "output_type": "stream",
     "text": [
      "Keys in npz file: ['processed_data', 'fs', 'keys']\n",
      "['__header__' '__version__' '__globals__' 'Tstart' 'Tinterval'\n",
      " 'ExtraSamples' 'RequestedLength' 'Length' 'Version' 'TDX1' 'TDX2' 'TDX3'\n",
      " 'TDX1_enlarged']\n",
      "processed_data shape: (15000, 5208, 4)\n",
      "Pulse shape: (5208,)\n"
     ]
    },
    {
     "data": {
      "image/png": "[encoded data removed]",
      "text/plain": [
       "<Figure size 640x480 with 1 Axes>"
      ]
     },
     "metadata": {},
     "output_type": "display_data"
    }
   ],
   "source": [
    "import numpy as np\n",
    "import scipy.io as sio\n",
    "import torch\n",
    "from typing import List, Tuple, Optional\n",
    "import matplotlib.pyplot as plt\n",
    "\n",
    "file_path = \"/home/smatsubara/documents/airlift/data/experiments/processed/P20240726-1600_processed.npz\"\n",
    "\n",
    "# Load the npz file\n",
    "data = np.load(file_path)\n",
    "# Print the keys in the npz file\n",
    "# Print the keys in the npz file as a list of strings for better readability\n",
    "print(\"Keys in npz file:\", list(data.keys()))\n",
    "print(data[\"keys\"])\n",
    "# Extract the processed_data array\n",
    "processed_data = data[\"processed_data\"]\n",
    "print(\"processed_data shape:\", processed_data.shape)\n",
    "\n",
    "# Visualize the 100th pulse of the first channel\n",
    "pulse = processed_data[100, :, 0]\n",
    "print(\"Pulse shape:\", pulse.shape)\n",
    "plt.plot(pulse)\n",
    "plt.title(\"Pulse waveform (100th, channel 0)\")\n",
    "plt.xlabel(\"Sample\")\n",
    "plt.ylabel(\"Amplitude\")\n",
    "plt.show()"
   ]
  }
 ],
 "metadata": {
  "kernelspec": {
   "display_name": ".venv",
   "language": "python",
   "name": "python3"
  },
  "language_info": {
   "codemirror_mode": {
    "name": "ipython",
    "version": 3
   },
   "file_extension": ".py",
   "mimetype": "text/x-python",
   "name": "python",
   "nbconvert_exporter": "python",
   "pygments_lexer": "ipython3",
   "version": "3.8.12"
  }
 },
 "nbformat": 4,
 "nbformat_minor": 5
}
