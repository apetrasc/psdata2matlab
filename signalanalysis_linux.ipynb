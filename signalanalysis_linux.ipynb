{
 "cells": [
  {
   "cell_type": "markdown",
   "id": "9b50382f",
   "metadata": {},
   "source": [
    "# signal analysis notebook(Linux)\n",
    "このノートブックでは、実際に筆者が書いた関数を呼び出し、それに基づいて信号の可視化を解析・解説しています。ソースコードは同じレポジトリ（src/utils.py）などを参照してください。\n",
    "このファイルは、Linux向けに動作テストを実施しています。Windows環境では、別ファイルを参照してください。"
   ]
  },
  {
   "cell_type": "markdown",
   "id": "0ddc3dfb",
   "metadata": {},
   "source": [
    "## 環境設定  \n",
    "下のセルを実行し、必要なライブラリをすべてインストールしましょう。GPUを使用しますので、きちんと認識されているか、Pythonで使用できる状態になっているか確認してください。  \n",
    "なお、torchのインストールに関しては、筆者が動作確認を行った環境はやや古いためバージョンを指定する方法はうまく行きません。公式の対応に任せていますが、環境によっては別途での対応が求められるかもしれません。"
   ]
  },
  {
   "cell_type": "code",
   "execution_count": null,
   "id": "91fa8362",
   "metadata": {},
   "outputs": [],
   "source": [
    "!pip install -r requirements.txt\n",
    "import torch\n",
    "print(torch.__version__)\n",
    "print(torch.cuda.is_available())\n",
    "print(torch.cuda.get_device_name(0))"
   ]
  },
  {
   "cell_type": "markdown",
   "id": "b569df0f",
   "metadata": {},
   "source": [
    "## メタデータ表示\n",
    "生のファイルの中にどのような情報があるのかを出力します。特に、これらはメタデータを表示するスクリプトとして利用してください。実際にデータが取得された年度において処理が異なることに留意してください。"
   ]
  },
  {
   "cell_type": "code",
   "execution_count": null,
   "id": "8208f682",
   "metadata": {},
   "outputs": [],
   "source": [
    "from src import analyze_mat_file,analyze_mat_file_h5py\n",
    "file_path_exp = \"/home/smatsubara/documents/airlift/data/experiments/rawsignal/P20240726-1600.mat\"\n",
    "file_path_sim = \"/home/smatsubara/documents/airlift/data/simulation/rawsignal/solid_liquid2.mat\"\n",
    "analyze_mat_file(file_path_exp)\n",
    "analyze_mat_file_h5py(file_path_sim)"
   ]
  },
  {
   "cell_type": "markdown",
   "id": "67355410",
   "metadata": {},
   "source": [
    "## ファイル形式変換\n",
    "\n",
    "実機データもシミュレーション生成のファイルも`.mat`形式で保存されていますが、これらはサンプリングレートや単位が異なるほか、実機データでは15000回の測定が連続的に記録されており、境目を表示することが困難です。  \n",
    "ゆえに、処理の統一化を目的としてすべてを`.npz`形式に変換します。これによって、一つのスクリプトで統一的に信号波形を処理することができるようになります。また、機械学習用のデータセットを作成しやすくなるという狙いがあります。  \n",
    "以下のセルは、実機データを変換するスクリプトです。   \n",
    "### 実機データ\n",
    "命名規則:\n",
    " - 2024: dates and time  \n",
    "    e.g. P20241007-1013.mat\n",
    " - 2023: experimental settings(requires details)  \n",
    "    e.g. s0_g2_l2_t1.mat\n",
    "\n",
    "これらに対し、`.npz`形式に変換したものを`*_processed.npz`として新しい名前を与え保存しています。\n",
    "なお、`signal_key=\"TDX1\"`と書いてありますが、これはTDX1のみを処理しているのではなく、これらをベースにトリガを検出し、その時刻を基準点としてすべてのチャンネルの信号波形を並び変えているということに注意してください。\n",
    "\n"
   ]
  },
  {
   "cell_type": "code",
   "execution_count": 6,
   "id": "f4dc8d4e",
   "metadata": {},
   "outputs": [
    {
     "name": "stdout",
     "output_type": "stream",
     "text": [
      "Loading data...\n",
      "Loading successful\n",
      "Using device: cuda\n",
      "Number of detected triggers: (14988,)\n",
      "arranged_pulses_tdx1.shape: (14988, 5208)\n",
      "arranged_pulses_tdx1_enlarged.shape: (14988, 5208)\n",
      "arranged_pulses.shape: (14988, 5208, 4)\n",
      "['__header__', '__version__', '__globals__', 'Tstart', 'Tinterval', 'ExtraSamples', 'RequestedLength', 'Length', 'Version', 'TDX1', 'TDX2', 'TDX3', 'TDX1_enlarged']\n",
      "signal points: (5208,)\n",
      "Processed data and metadata saved to: /home/smatsubara/documents/airlift/data/experiments/processed/P20241007-1013_processed.npz\n"
     ]
    },
    {
     "data": {
      "text/plain": [
       "'/home/smatsubara/documents/airlift/data/experiments/processed/P20241007-1013_processed.npz'"
      ]
     },
     "execution_count": 6,
     "metadata": {},
     "output_type": "execute_result"
    }
   ],
   "source": [
    "from src import mat2npz_exp\n",
    "\n",
    "\n",
    "file_path = \"/home/smatsubara/documents/airlift/data/experiments/rawsignal/P20241007-1013.mat\"\n",
    "output_dir = \"/home/smatsubara/documents/airlift/data/experiments/processed\"  # Change to your desired directory\n",
    "\n",
    "\n",
    "# 関数を呼び出して実行\n",
    "mat2npz_exp(\n",
    "    file_path=file_path,\n",
    "    output_dir=output_dir,\n",
    "    start_time=0.0,\n",
    "    duration=5.0,\n",
    "    amplitude_threshold=2,\n",
    "    window_width=0.1e-3,\n",
    "    signal_key=\"TDX1\"\n",
    ")"
   ]
  },
  {
   "cell_type": "markdown",
   "id": "b93a442f",
   "metadata": {},
   "source": [
    "### シミュレーションデータ  \n",
    "次に、シミュレーションデータを変換します。シミュレーションにおいては、計算時間の制約で複数パルス分のデータを用意することはできません。さらに、ソフトの設定によりkgridの中にdtは具体的な値としては保存されません。  \n",
    "それゆえ、`config.json`をもとに復元する必要があります。そのため、`.json`ファイルも読み込んで同時に処理します。そこに、メタデータも含ませてよりリッチな情報を提供します。  \n",
    "また`.npz`のファイルには１パルス分の情報だけが記録されることになります。それゆえ、それらを画像として可視化する場合、`full=True`と`full=False`の処理は同じになります。  \n",
    "以下のセルはシミュレーションデータを変換するスクリプトです。\n"
   ]
  },
  {
   "cell_type": "code",
   "execution_count": 7,
   "id": "1d32400d",
   "metadata": {},
   "outputs": [
    {
     "name": "stdout",
     "output_type": "stream",
     "text": [
      "<KeysViewHDF5 ['#refs#', '#subsystem#', 'kgrid', 'sensor_data']>\n",
      "['Nt', 'Nx', 'Ny', 'Nz', 'dim', 'dt', 'dx', 'dxudxn', 'dxudxn_sgx', 'dy', 'dyudyn', 'dyudyn_sgy', 'dz', 'dzudzn', 'dzudzn_sgz', 'k', 'k_max', 'kx_max', 'kx_vec', 'ky_max', 'ky_vec', 'kz_max', 'kz_vec', 'nonuniform', 'xn_vec', 'xn_vec_sgx', 'yn_vec', 'yn_vec_sgy', 'zn_vec', 'zn_vec_sgz']\n",
      "999999999.9999999\n",
      "keys: ['#refs#', '#subsystem#', 'kgrid', 'sensor_data']\n",
      "['#refs#', '#subsystem#', 'kgrid', 'sensor_data']\n",
      "(100001,)\n",
      "Processed data and metadata saved to: /home/smatsubara/documents/airlift/data/simulation/processed/solid_liquid2_processed.npz\n"
     ]
    },
    {
     "data": {
      "text/plain": [
       "'/home/smatsubara/documents/airlift/data/simulation/processed/solid_liquid2_processed.npz'"
      ]
     },
     "execution_count": 7,
     "metadata": {},
     "output_type": "execute_result"
    }
   ],
   "source": [
    "from src import mat2npz_sim\n",
    "file_path_ex = \"/home/smatsubara/documents/airlift/data/simulation/rawsignal/solid_liquid2.mat\"\n",
    "output_dir_ex = \"/home/smatsubara/documents/airlift/data/simulation/processed\"  # Change to your desired directory\n",
    "config_path_ex=\"/home/smatsubara/documents/airlift/data/simulation/config.json\"\n",
    "\n",
    "\n",
    "mat2npz_sim(\n",
    "    file_path=file_path_ex,\n",
    "    config_path=config_path_ex,\n",
    "    output_dir=output_dir_ex\n",
    ")"
   ]
  },
  {
   "cell_type": "markdown",
   "id": "9db0711b",
   "metadata": {},
   "source": [
    "### 保存形式のチェック\n",
    "実機・シミュレーションそれぞれにおいて、変換が正しく実行されたのかを確認します。変換されたファイルを読み込んで、それぞれのファイルの型を確認しましょう。以下はそのスクリプトです。"
   ]
  },
  {
   "cell_type": "code",
   "execution_count": 8,
   "id": "d48072c3",
   "metadata": {},
   "outputs": [
    {
     "name": "stdout",
     "output_type": "stream",
     "text": [
      "======== experiment =========\n",
      "['__header__' '__version__' '__globals__' 'Tstart' 'Tinterval'\n",
      " 'ExtraSamples' 'RequestedLength' 'Length' 'Version' 'TDX1' 'TDX2' 'TDX3'\n",
      " 'TDX1_enlarged']\n",
      "(n_pulses, n_samples, n_channels): (14988, 5208, 4)\n",
      "52083333.842615336\n",
      "======== simulation =========\n",
      "['#refs#' '#subsystem#' 'kgrid' 'sensor_data']\n",
      "(n_pulses, n_samples, n_channels): (1, 100001, 1)\n",
      "999999999.9999999\n"
     ]
    }
   ],
   "source": [
    "sim_file_processed=\"/home/smatsubara/documents/airlift/data/simulation/processed/solid_liquid2_processed.npz\"\n",
    "exp_file_processed=\"/home/smatsubara/documents/airlift/data/experiments/processed/P20241007-1013_processed.npz\"\n",
    "\n",
    "import numpy as np\n",
    "with np.load(exp_file_processed) as data:\n",
    "    #print(data.keys())\n",
    "    print(\"======== experiment =========\")\n",
    "    print(data['original_keys'])\n",
    "    print(f\"(n_pulses, n_samples, n_channels): {data['processed_data'].shape}\")\n",
    "    print(data['fs'])\n",
    "\n",
    "\n",
    "with np.load(sim_file_processed) as data:\n",
    "    #print(data.keys())\n",
    "    print(\"======== simulation =========\")\n",
    "    print(data['original_keys'])\n",
    "    print(f\"(n_pulses, n_samples, n_channels): {data['processed_data'].shape}\")\n",
    "    print(data['fs'])\n",
    "    \n",
    "\n"
   ]
  },
  {
   "cell_type": "markdown",
   "id": "bc8d704a",
   "metadata": {},
   "source": [
    "## 信号波形の可視化・解析\n",
    "機械学習および信号波形の比較・解析をしやすいように変換した`.npz`ファイルを読み込み、可視化するスクリプトです。これら信号波形は画像形式に変換し解釈の精度を上げることもできます。一方で、一つのパルスの可視化にも意味があります。  \n",
    "そこで、オプションに従いその画像化を行うスクリプトを`npz2png.py`という関数にまとめてあります。これらの引数として`full=True`ならば画像を、`full=False`ならば一パルス分の概形のみを返します。  \n",
    "## npz2png (src/util.py)\n",
    "### input \n",
    " - file_path\n",
    " - save_path\n",
    " - channel_index\n",
    " - start_time\n",
    " - end_time\n",
    " - full(=True or False)\n",
    " - pulse_index  \n",
    "### output\n",
    " - *_\"pulse or img\".png"
   ]
  },
  {
   "cell_type": "code",
   "execution_count": 9,
   "id": "204e6b8c",
   "metadata": {},
   "outputs": [
    {
     "name": "stdout",
     "output_type": "stream",
     "text": [
      "(14988, 5208, 4)\n",
      "device: cuda\n",
      "/home/smatsubara/documents/airlift/data/visualize/P20241007-1013_processed_0img.png\n",
      "(14988, 5208, 4)\n",
      "/home/smatsubara/documents/airlift/data/visualize/P20241007-1013_processed_0pulse.png\n",
      "(1, 100001, 1)\n",
      "device: cuda\n",
      "/home/smatsubara/documents/airlift/data/visualize/solid_liquid2_processed_0img.png\n",
      "(1, 100001, 1)\n",
      "/home/smatsubara/documents/airlift/data/visualize/solid_liquid2_processed_0pulse.png\n"
     ]
    }
   ],
   "source": [
    "from src.utils import npz2png\n",
    "# npz2img関数を実際に使って画像を保存してみる例\n",
    "npz_file_path = \"/home/smatsubara/documents/airlift/data/experiments/processed/P20241007-1013_processed.npz\"\n",
    "npz_file_path_sim = \"/home/smatsubara/documents/airlift/data/simulation/processed/solid_liquid2_processed.npz\"\n",
    "output_folder_path = \"/home/smatsubara/documents/airlift/data/visualize\"\n",
    "\n",
    "\n",
    "\n",
    "npz2png(npz_file_path, output_folder_path, channel_index=0, start_time=0.0, end_time=None, full=True, pulse_index=0)\n",
    "npz2png(npz_file_path, output_folder_path, channel_index=0, start_time=0.0, end_time=None, full=False, pulse_index=150)\n",
    "#npz2png(npz_file_path, output_folder_path, channel_index=1, start_time=0.0, end_time=None, full=True, pulse_index=0)\n",
    "npz2png(npz_file_path_sim, output_folder_path, channel_index=0, start_time=0.0, end_time=None, full=True, pulse_index=0)\n",
    "npz2png(npz_file_path_sim, output_folder_path, channel_index=0, start_time=0.0, end_time=None, full=False, pulse_index=0)"
   ]
  },
  {
   "cell_type": "markdown",
   "id": "6f833380",
   "metadata": {},
   "source": [
    "### 補足\n",
    " - 処理に関して  \n",
    "   生信号を画像化しても意味がないため、画像化の際はヒルベルト変換を実施\n",
    " - 前処理  \n",
    "    飽和を起こしている領域の信号の値を０に（エラーハンドリングを目的とする。）\n",
    "    データ転送は複数パルスの画像化の際のみ実行\n",
    " - 例外処理  \n",
    "      シミュレーションにおいては０回目以外の測定の値を指定してもエラーを出力　　\n",
    "      シミュレーション信号の画像生成に関しては、縦１ピクセルの画像と解釈\n",
    " - 備考  \n",
    "      ０回目の測定結果の信号波形の可視化は、ややずれていることが多い"
   ]
  }
 ],
 "metadata": {
  "kernelspec": {
   "display_name": "Python 3",
   "language": "python",
   "name": "python3"
  },
  "language_info": {
   "codemirror_mode": {
    "name": "ipython",
    "version": 3
   },
   "file_extension": ".py",
   "mimetype": "text/x-python",
   "name": "python",
   "nbconvert_exporter": "python",
   "pygments_lexer": "ipython3",
   "version": "3.8.12"
  }
 },
 "nbformat": 4,
 "nbformat_minor": 5
}
